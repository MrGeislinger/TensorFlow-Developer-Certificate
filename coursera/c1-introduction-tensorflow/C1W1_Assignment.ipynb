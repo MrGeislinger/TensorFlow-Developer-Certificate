{
 "cells": [
  {
   "cell_type": "markdown",
   "metadata": {
    "id": "mw2VBrBcgvGa"
   },
   "source": [
    "# Week 1 Assignment: Housing Prices\n",
    "\n",
    "In this exercise you'll try to build a neural network that predicts the price of a house according to a simple formula.\n",
    "\n",
    "Imagine that house pricing is as easy as:\n",
    "\n",
    "A house has a base cost of 50k, and every additional bedroom adds a cost of 50k. This will make a 1 bedroom house cost 100k, a 2 bedroom house cost 150k etc.\n",
    "\n",
    "How would you create a neural network that learns this relationship so that it would predict a 7 bedroom house as costing close to 400k etc.\n",
    "\n",
    "Hint: Your network might work better if you scale the house price down. You don't have to give the answer 400...it might be better to create something that predicts the number 4, and then your answer is in the 'hundreds of thousands' etc."
   ]
  },
  {
   "cell_type": "code",
   "execution_count": 1,
   "metadata": {
    "id": "PUNO2E6SeURH",
    "tags": [
     "graded"
    ]
   },
   "outputs": [],
   "source": [
    "import tensorflow as tf\n",
    "import numpy as np"
   ]
  },
  {
   "cell_type": "code",
   "execution_count": 8,
   "metadata": {},
   "outputs": [
    {
     "data": {
      "text/plain": [
       "array([[ 0],\n",
       "       [ 2],\n",
       "       [ 4],\n",
       "       [ 6],\n",
       "       [ 8],\n",
       "       [10],\n",
       "       [12],\n",
       "       [14],\n",
       "       [16],\n",
       "       [18],\n",
       "       [20],\n",
       "       [22]])"
      ]
     },
     "execution_count": 8,
     "metadata": {},
     "output_type": "execute_result"
    }
   ],
   "source": [
    "xs = (np.arange(0, 12, 0.5).reshape(-1,1)\n",
    "ys = np.arange(0.5, 13*0.5, 0.25).reshape(-1,1)"
   ]
  },
  {
   "cell_type": "code",
   "execution_count": 28,
   "metadata": {
    "id": "B-74xrKrBqGJ",
    "tags": [
     "graded"
    ]
   },
   "outputs": [],
   "source": [
    "# GRADED FUNCTION: house_model\n",
    "def house_model():\n",
    "    ### START CODE HERE\n",
    "    \n",
    "    # Define input and output tensors with the values for houses with 1 up to 6 bedrooms\n",
    "    # Hint: Remember to explictly set the dtype as float\n",
    "    xs = np.arange(0., 12., 0.25).reshape(-1,1)\n",
    "    ys = np.arange(0.5, 13*0.5, 0.125).reshape(-1,1)\n",
    "    \n",
    "    # Define your model (should be a model with 1 dense layer and 1 unit)\n",
    "    model = tf.keras.Sequential([\n",
    "        tf.keras.layers.Dense(1, activation='relu', input_shape=(1,))\n",
    "    ])\n",
    "    \n",
    "    # Compile your model\n",
    "    # Set the optimizer to Stochastic Gradient Descent\n",
    "    # and use Mean Squared Error as the loss function\n",
    "    model.compile(optimizer='sgd', loss='mse')\n",
    "    \n",
    "    # Train your model for 1000 epochs by feeding the i/o tensors\n",
    "    model.fit(xs, ys, epochs=100)\n",
    "    \n",
    "    ### END CODE HERE\n",
    "    return model"
   ]
  },
  {
   "cell_type": "markdown",
   "metadata": {},
   "source": [
    "Now that you have a function that returns a compiled and trained model when invoked, use it to get the model to predict the price of houses: "
   ]
  },
  {
   "cell_type": "code",
   "execution_count": 29,
   "metadata": {
    "tags": [
     "graded"
    ]
   },
   "outputs": [
    {
     "name": "stdout",
     "output_type": "stream",
     "text": [
      "Epoch 1/100\n",
      "2/2 [==============================] - 0s 2ms/step - loss: 0.1054\n",
      "Epoch 2/100\n",
      "2/2 [==============================] - 0s 2ms/step - loss: 0.0643\n",
      "Epoch 3/100\n",
      "2/2 [==============================] - 0s 1ms/step - loss: 0.0631\n",
      "Epoch 4/100\n",
      "2/2 [==============================] - 0s 1ms/step - loss: 0.0617\n",
      "Epoch 5/100\n",
      "2/2 [==============================] - 0s 1ms/step - loss: 0.0603\n",
      "Epoch 6/100\n",
      "2/2 [==============================] - 0s 1ms/step - loss: 0.0595\n",
      "Epoch 7/100\n",
      "2/2 [==============================] - 0s 1ms/step - loss: 0.0593\n",
      "Epoch 8/100\n",
      "2/2 [==============================] - 0s 1ms/step - loss: 0.0575\n",
      "Epoch 9/100\n",
      "2/2 [==============================] - 0s 1ms/step - loss: 0.0556\n",
      "Epoch 10/100\n",
      "2/2 [==============================] - 0s 1ms/step - loss: 0.0545\n",
      "Epoch 11/100\n",
      "2/2 [==============================] - 0s 1ms/step - loss: 0.0535\n",
      "Epoch 12/100\n",
      "2/2 [==============================] - 0s 1ms/step - loss: 0.0529\n",
      "Epoch 13/100\n",
      "2/2 [==============================] - 0s 1ms/step - loss: 0.0522\n",
      "Epoch 14/100\n",
      "2/2 [==============================] - 0s 1ms/step - loss: 0.0509\n",
      "Epoch 15/100\n",
      "2/2 [==============================] - 0s 1ms/step - loss: 0.0505\n",
      "Epoch 16/100\n",
      "2/2 [==============================] - 0s 1ms/step - loss: 0.0486\n",
      "Epoch 17/100\n",
      "2/2 [==============================] - 0s 1ms/step - loss: 0.0480\n",
      "Epoch 18/100\n",
      "2/2 [==============================] - 0s 1ms/step - loss: 0.0467\n",
      "Epoch 19/100\n",
      "2/2 [==============================] - 0s 1ms/step - loss: 0.0459\n",
      "Epoch 20/100\n",
      "2/2 [==============================] - 0s 1ms/step - loss: 0.0466\n",
      "Epoch 21/100\n",
      "2/2 [==============================] - 0s 1ms/step - loss: 0.0444\n",
      "Epoch 22/100\n",
      "2/2 [==============================] - 0s 2ms/step - loss: 0.0470\n",
      "Epoch 23/100\n",
      "2/2 [==============================] - 0s 1ms/step - loss: 0.0425\n",
      "Epoch 24/100\n",
      "2/2 [==============================] - 0s 1ms/step - loss: 0.0419\n",
      "Epoch 25/100\n",
      "2/2 [==============================] - 0s 1ms/step - loss: 0.0403\n",
      "Epoch 26/100\n",
      "2/2 [==============================] - 0s 2ms/step - loss: 0.0396\n",
      "Epoch 27/100\n",
      "2/2 [==============================] - 0s 1ms/step - loss: 0.0387\n",
      "Epoch 28/100\n",
      "2/2 [==============================] - 0s 1ms/step - loss: 0.0378\n",
      "Epoch 29/100\n",
      "2/2 [==============================] - 0s 1ms/step - loss: 0.0371\n",
      "Epoch 30/100\n",
      "2/2 [==============================] - 0s 1ms/step - loss: 0.0369\n",
      "Epoch 31/100\n",
      "2/2 [==============================] - 0s 2ms/step - loss: 0.0374\n",
      "Epoch 32/100\n",
      "2/2 [==============================] - 0s 1ms/step - loss: 0.0391\n",
      "Epoch 33/100\n",
      "2/2 [==============================] - 0s 1ms/step - loss: 0.0342\n",
      "Epoch 34/100\n",
      "2/2 [==============================] - 0s 1ms/step - loss: 0.0349\n",
      "Epoch 35/100\n",
      "2/2 [==============================] - 0s 2ms/step - loss: 0.0350\n",
      "Epoch 36/100\n",
      "2/2 [==============================] - 0s 1ms/step - loss: 0.0323\n",
      "Epoch 37/100\n",
      "2/2 [==============================] - 0s 1ms/step - loss: 0.0314\n",
      "Epoch 38/100\n",
      "2/2 [==============================] - 0s 2ms/step - loss: 0.0308\n",
      "Epoch 39/100\n",
      "2/2 [==============================] - 0s 2ms/step - loss: 0.0302\n",
      "Epoch 40/100\n",
      "2/2 [==============================] - 0s 1ms/step - loss: 0.0296\n",
      "Epoch 41/100\n",
      "2/2 [==============================] - 0s 1ms/step - loss: 0.0290\n",
      "Epoch 42/100\n",
      "2/2 [==============================] - 0s 1ms/step - loss: 0.0283\n",
      "Epoch 43/100\n",
      "2/2 [==============================] - 0s 2ms/step - loss: 0.0276\n",
      "Epoch 44/100\n",
      "2/2 [==============================] - 0s 2ms/step - loss: 0.0277\n",
      "Epoch 45/100\n",
      "2/2 [==============================] - 0s 1ms/step - loss: 0.0270\n",
      "Epoch 46/100\n",
      "2/2 [==============================] - 0s 1ms/step - loss: 0.0271\n",
      "Epoch 47/100\n",
      "2/2 [==============================] - 0s 1ms/step - loss: 0.0258\n",
      "Epoch 48/100\n",
      "2/2 [==============================] - 0s 1ms/step - loss: 0.0251\n",
      "Epoch 49/100\n",
      "2/2 [==============================] - 0s 2ms/step - loss: 0.0249\n",
      "Epoch 50/100\n",
      "2/2 [==============================] - 0s 1ms/step - loss: 0.0245\n",
      "Epoch 51/100\n",
      "2/2 [==============================] - 0s 1ms/step - loss: 0.0236\n",
      "Epoch 52/100\n",
      "2/2 [==============================] - 0s 2ms/step - loss: 0.0234\n",
      "Epoch 53/100\n",
      "2/2 [==============================] - 0s 1ms/step - loss: 0.0241\n",
      "Epoch 54/100\n",
      "2/2 [==============================] - 0s 1ms/step - loss: 0.0242\n",
      "Epoch 55/100\n",
      "2/2 [==============================] - 0s 1ms/step - loss: 0.0218\n",
      "Epoch 56/100\n",
      "2/2 [==============================] - 0s 1ms/step - loss: 0.0213\n",
      "Epoch 57/100\n",
      "2/2 [==============================] - 0s 1ms/step - loss: 0.0212\n",
      "Epoch 58/100\n",
      "2/2 [==============================] - 0s 1ms/step - loss: 0.0214\n",
      "Epoch 59/100\n",
      "2/2 [==============================] - 0s 2ms/step - loss: 0.0201\n",
      "Epoch 60/100\n",
      "2/2 [==============================] - 0s 1ms/step - loss: 0.0200\n",
      "Epoch 61/100\n",
      "2/2 [==============================] - 0s 2ms/step - loss: 0.0192\n",
      "Epoch 62/100\n",
      "2/2 [==============================] - 0s 1ms/step - loss: 0.0188\n",
      "Epoch 63/100\n",
      "2/2 [==============================] - 0s 2ms/step - loss: 0.0190\n",
      "Epoch 64/100\n",
      "2/2 [==============================] - 0s 1ms/step - loss: 0.0184\n",
      "Epoch 65/100\n",
      "2/2 [==============================] - 0s 1ms/step - loss: 0.0176\n",
      "Epoch 66/100\n",
      "2/2 [==============================] - 0s 1ms/step - loss: 0.0173\n",
      "Epoch 67/100\n",
      "2/2 [==============================] - 0s 1ms/step - loss: 0.0170\n",
      "Epoch 68/100\n",
      "2/2 [==============================] - 0s 1ms/step - loss: 0.0175\n",
      "Epoch 69/100\n",
      "2/2 [==============================] - 0s 1ms/step - loss: 0.0165\n",
      "Epoch 70/100\n",
      "2/2 [==============================] - 0s 2ms/step - loss: 0.0158\n",
      "Epoch 71/100\n",
      "2/2 [==============================] - 0s 2ms/step - loss: 0.0162\n",
      "Epoch 72/100\n",
      "2/2 [==============================] - 0s 2ms/step - loss: 0.0161\n",
      "Epoch 73/100\n",
      "2/2 [==============================] - 0s 1ms/step - loss: 0.0156\n",
      "Epoch 74/100\n",
      "2/2 [==============================] - 0s 1ms/step - loss: 0.0149\n",
      "Epoch 75/100\n",
      "2/2 [==============================] - 0s 1ms/step - loss: 0.0149\n",
      "Epoch 76/100\n",
      "2/2 [==============================] - 0s 1ms/step - loss: 0.0141\n",
      "Epoch 77/100\n",
      "2/2 [==============================] - 0s 1ms/step - loss: 0.0138\n",
      "Epoch 78/100\n",
      "2/2 [==============================] - 0s 1ms/step - loss: 0.0135\n",
      "Epoch 79/100\n",
      "2/2 [==============================] - 0s 1ms/step - loss: 0.0132\n",
      "Epoch 80/100\n",
      "2/2 [==============================] - 0s 1ms/step - loss: 0.0130\n",
      "Epoch 81/100\n",
      "2/2 [==============================] - 0s 1ms/step - loss: 0.0127\n",
      "Epoch 82/100\n",
      "2/2 [==============================] - 0s 1ms/step - loss: 0.0124\n",
      "Epoch 83/100\n",
      "2/2 [==============================] - 0s 1ms/step - loss: 0.0122\n",
      "Epoch 84/100\n",
      "2/2 [==============================] - 0s 1ms/step - loss: 0.0120\n",
      "Epoch 85/100\n",
      "2/2 [==============================] - 0s 1ms/step - loss: 0.0117\n",
      "Epoch 86/100\n",
      "2/2 [==============================] - 0s 1ms/step - loss: 0.0114\n",
      "Epoch 87/100\n",
      "2/2 [==============================] - 0s 1ms/step - loss: 0.0112\n",
      "Epoch 88/100\n",
      "2/2 [==============================] - 0s 1ms/step - loss: 0.0110\n",
      "Epoch 89/100\n",
      "2/2 [==============================] - 0s 1ms/step - loss: 0.0108\n",
      "Epoch 90/100\n",
      "2/2 [==============================] - 0s 1ms/step - loss: 0.0107\n",
      "Epoch 91/100\n",
      "2/2 [==============================] - 0s 1ms/step - loss: 0.0103\n",
      "Epoch 92/100\n",
      "2/2 [==============================] - 0s 1ms/step - loss: 0.0101\n",
      "Epoch 93/100\n",
      "2/2 [==============================] - 0s 1ms/step - loss: 0.0100\n",
      "Epoch 94/100\n",
      "2/2 [==============================] - 0s 1ms/step - loss: 0.0100\n",
      "Epoch 95/100\n",
      "2/2 [==============================] - 0s 1ms/step - loss: 0.0096\n",
      "Epoch 96/100\n",
      "2/2 [==============================] - 0s 1ms/step - loss: 0.0094\n",
      "Epoch 97/100\n",
      "2/2 [==============================] - 0s 2ms/step - loss: 0.0092\n",
      "Epoch 98/100\n",
      "2/2 [==============================] - 0s 1ms/step - loss: 0.0090\n",
      "Epoch 99/100\n",
      "2/2 [==============================] - 0s 1ms/step - loss: 0.0088\n",
      "Epoch 100/100\n",
      "2/2 [==============================] - 0s 1ms/step - loss: 0.0086\n"
     ]
    }
   ],
   "source": [
    "# Get your trained model\n",
    "model = house_model()"
   ]
  },
  {
   "cell_type": "markdown",
   "metadata": {},
   "source": [
    "Now that your model has finished training it is time to test it out! You can do so by running the next cell."
   ]
  },
  {
   "cell_type": "code",
   "execution_count": 30,
   "metadata": {
    "id": "kMlInDdSBqGK",
    "tags": [
     "graded"
    ]
   },
   "outputs": [
    {
     "name": "stdout",
     "output_type": "stream",
     "text": [
      "WARNING:tensorflow:6 out of the last 11 calls to <function Model.make_predict_function.<locals>.predict_function at 0x7f3e141dd1f0> triggered tf.function retracing. Tracing is expensive and the excessive number of tracings could be due to (1) creating @tf.function repeatedly in a loop, (2) passing tensors with different shapes, (3) passing Python objects instead of tensors. For (1), please define your @tf.function outside of the loop. For (2), @tf.function has experimental_relax_shapes=True option that relaxes argument shapes that can avoid unnecessary retracing. For (3), please refer to https://www.tensorflow.org/guide/function#controlling_retracing and https://www.tensorflow.org/api_docs/python/tf/function for  more details.\n",
      "[5.547839]\n"
     ]
    }
   ],
   "source": [
    "new_y = 10.\n",
    "prediction = model.predict([new_y])[0]\n",
    "print(prediction)"
   ]
  },
  {
   "cell_type": "markdown",
   "metadata": {},
   "source": [
    "If everything went as expected you should see a prediction value very close to 4. **If not, try adjusting your code before submitting the assignment.** Notice that you can play around with the value of `new_y` to get different predictions. In general you should see that the network was able to learn the linear relationship between `x` and `y`, so if you use a value of 8.0 you should get a prediction close to 4.5 and so on."
   ]
  },
  {
   "cell_type": "markdown",
   "metadata": {},
   "source": [
    "**Congratulations on finishing this week's assignment!**\n",
    "\n",
    "You have successfully coded a neural network that learned the linear relationship between two variables. Nice job!\n",
    "\n",
    "**Keep it up!**"
   ]
  }
 ],
 "metadata": {
  "kernelspec": {
   "display_name": "Python 3",
   "language": "python",
   "name": "python3"
  },
  "language_info": {
   "codemirror_mode": {
    "name": "ipython",
    "version": 3
   },
   "file_extension": ".py",
   "mimetype": "text/x-python",
   "name": "python",
   "nbconvert_exporter": "python",
   "pygments_lexer": "ipython3",
   "version": "3.8.8"
  }
 },
 "nbformat": 4,
 "nbformat_minor": 4
}
