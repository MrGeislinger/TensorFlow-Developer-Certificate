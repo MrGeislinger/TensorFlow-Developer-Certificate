{
  "metadata": {
    "kernelspec": {
      "language": "python",
      "display_name": "Python 3",
      "name": "python3"
    },
    "language_info": {
      "pygments_lexer": "ipython3",
      "nbconvert_exporter": "python",
      "version": "3.6.4",
      "file_extension": ".py",
      "codemirror_mode": {
        "name": "ipython",
        "version": 3
      },
      "name": "python",
      "mimetype": "text/x-python"
    },
    "colab": {
      "name": "c2w2-assignment.ipynb",
      "provenance": []
    },
    "accelerator": "GPU"
  },
  "nbformat_minor": 0,
  "nbformat": 4,
  "cells": [
    {
      "cell_type": "markdown",
      "source": [
        "# Week 2: Tackle Overfitting with Data Augmentation\n",
        "\n",
        "Welcome to this assignment! As in the previous week, you will be using the famous `cats vs dogs` dataset to train a model that can classify images of dogs from images of cats. For this, you will create your own Convolutional Neural Network in Tensorflow and leverage Keras' image preprocessing utilities, more so this time around since Keras provides excellent support for augmenting image data.\n",
        "\n",
        "You will also need to create the helper functions to move the images around the filesystem as you did last week, so if you need to refresh your memory with the `os` module be sure to take a look a the [docs](https://docs.python.org/3/library/os.html).\n",
        "\n",
        "Let's get started!"
      ],
      "metadata": {
        "id": "AuW-xg_bTsaF"
      }
    },
    {
      "cell_type": "code",
      "source": [
        "import os\n",
        "import zipfile\n",
        "import random\n",
        "import shutil\n",
        "import tensorflow as tf\n",
        "from tensorflow.keras.preprocessing.image import ImageDataGenerator\n",
        "from shutil import copyfile\n",
        "import matplotlib.pyplot as plt"
      ],
      "metadata": {
        "id": "dn-6c02VmqiN",
        "tags": [
          "graded"
        ],
        "execution": {
          "iopub.status.busy": "2022-05-25T04:41:43.339952Z",
          "iopub.execute_input": "2022-05-25T04:41:43.340321Z",
          "iopub.status.idle": "2022-05-25T04:41:48.785994Z",
          "shell.execute_reply.started": "2022-05-25T04:41:43.340213Z",
          "shell.execute_reply": "2022-05-25T04:41:48.785218Z"
        },
        "trusted": true
      },
      "execution_count": null,
      "outputs": []
    },
    {
      "cell_type": "markdown",
      "source": [
        "Download the dataset from its original source by running the cell below. \n",
        "\n",
        "Note that the `zip` file that contains the images is unzipped under the `/tmp` directory."
      ],
      "metadata": {
        "id": "bLTQd84RUs1j"
      }
    },
    {
      "cell_type": "code",
      "source": [
        "# If the URL doesn't work, visit https://www.microsoft.com/en-us/download/confirmation.aspx?id=54765\n",
        "# And right click on the 'Download Manually' link to get a new URL to the dataset\n",
        "\n",
        "# Note: This is a very large dataset and will take some time to download\n",
        "\n",
        "!wget --no-check-certificate \\\n",
        "    \"https://download.microsoft.com/download/3/E/1/3E1C3F21-ECDB-4869-8368-6DEBA77B919F/kagglecatsanddogs_5340.zip\" \\\n",
        "    -O \"/tmp/cats-and-dogs.zip\"\n",
        "\n",
        "local_zip = '/tmp/cats-and-dogs.zip'\n",
        "zip_ref   = zipfile.ZipFile(local_zip, 'r')\n",
        "zip_ref.extractall('/tmp')\n",
        "zip_ref.close()"
      ],
      "metadata": {
        "id": "3sd9dQWa23aj",
        "lines_to_next_cell": 2,
        "tags": [],
        "execution": {
          "iopub.status.busy": "2022-05-25T04:41:48.787795Z",
          "iopub.execute_input": "2022-05-25T04:41:48.788072Z",
          "iopub.status.idle": "2022-05-25T04:42:30.618627Z",
          "shell.execute_reply.started": "2022-05-25T04:41:48.788036Z",
          "shell.execute_reply": "2022-05-25T04:42:30.617746Z"
        },
        "trusted": true,
        "colab": {
          "base_uri": "https://localhost:8080/"
        },
        "outputId": "5938b811-a4e4-475a-cff1-f2d3f3020b62"
      },
      "execution_count": null,
      "outputs": [
        {
          "output_type": "stream",
          "name": "stdout",
          "text": [
            "--2022-05-25 13:28:03--  https://download.microsoft.com/download/3/E/1/3E1C3F21-ECDB-4869-8368-6DEBA77B919F/kagglecatsanddogs_5340.zip\n",
            "Resolving download.microsoft.com (download.microsoft.com)... 23.200.224.137, 2600:1407:2800:384::e59, 2600:1407:2800:380::e59\n",
            "Connecting to download.microsoft.com (download.microsoft.com)|23.200.224.137|:443... connected.\n",
            "HTTP request sent, awaiting response... 200 OK\n",
            "Length: 824887076 (787M) [application/octet-stream]\n",
            "Saving to: ‘/tmp/cats-and-dogs.zip’\n",
            "\n",
            "/tmp/cats-and-dogs. 100%[===================>] 786.67M   133MB/s    in 6.3s    \n",
            "\n",
            "2022-05-25 13:28:09 (126 MB/s) - ‘/tmp/cats-and-dogs.zip’ saved [824887076/824887076]\n",
            "\n"
          ]
        }
      ]
    },
    {
      "cell_type": "markdown",
      "source": [
        "Now the images are stored within the `/tmp/PetImages` directory. There is a subdirectory for each class, so one for dogs and one for cats."
      ],
      "metadata": {
        "id": "e_HsUV9WVJHL"
      }
    },
    {
      "cell_type": "code",
      "source": [
        "source_path = '/tmp/PetImages'\n",
        "\n",
        "source_path_dogs = os.path.join(source_path, 'Dog')\n",
        "source_path_cats = os.path.join(source_path, 'Cat')\n",
        "\n",
        "\n",
        "# os.listdir returns a list containing all files under the given path\n",
        "print(f\"There are {len(os.listdir(source_path_dogs))} images of dogs.\")\n",
        "print(f\"There are {len(os.listdir(source_path_cats))} images of cats.\")"
      ],
      "metadata": {
        "id": "DM851ZmN28J3",
        "tags": [
          "graded"
        ],
        "execution": {
          "iopub.status.busy": "2022-05-25T04:42:30.620596Z",
          "iopub.execute_input": "2022-05-25T04:42:30.620869Z",
          "iopub.status.idle": "2022-05-25T04:42:30.645916Z",
          "shell.execute_reply.started": "2022-05-25T04:42:30.620829Z",
          "shell.execute_reply": "2022-05-25T04:42:30.645168Z"
        },
        "trusted": true,
        "colab": {
          "base_uri": "https://localhost:8080/"
        },
        "outputId": "78639191-2462-41a8-8d4b-02ec196c34b6"
      },
      "execution_count": null,
      "outputs": [
        {
          "output_type": "stream",
          "name": "stdout",
          "text": [
            "There are 12501 images of dogs.\n",
            "There are 12501 images of cats.\n"
          ]
        }
      ]
    },
    {
      "cell_type": "markdown",
      "source": [
        "**Expected Output:**\n",
        "\n",
        "```\n",
        "There are 12501 images of dogs.\n",
        "There are 12501 images of cats.\n",
        "```"
      ],
      "metadata": {
        "id": "G7dI86rmRGmC"
      }
    },
    {
      "cell_type": "markdown",
      "source": [
        "You will need a directory for cats-v-dogs, and subdirectories for training\n",
        "and validation. These in turn will need subdirectories for 'cats' and 'dogs'. To accomplish this, complete the `create_train_val_dirs` below:"
      ],
      "metadata": {
        "id": "iFbMliudNIjW"
      }
    },
    {
      "cell_type": "code",
      "source": [
        "# Define root directory\n",
        "root_dir = '/tmp/cats-v-dogs'\n",
        "\n",
        "# Empty directory to prevent FileExistsError is the function is run several times\n",
        "if os.path.exists(root_dir):\n",
        "  shutil.rmtree(root_dir)\n",
        "\n",
        "# GRADED FUNCTION: create_train_val_dirs\n",
        "def create_train_val_dirs(root_path):\n",
        "  \"\"\"\n",
        "  Creates directories for the train and test sets\n",
        "  \n",
        "  Args:\n",
        "    root_path (string) - the base directory path to create subdirectories from\n",
        "  \n",
        "  Returns:\n",
        "    None\n",
        "  \"\"\"  \n",
        "\n",
        "  ### START CODE HERE\n",
        "\n",
        "  # HINT:\n",
        "  # Use os.makedirs to create your directories with intermediate subdirectories\n",
        "  # Don't hardcode the paths. Use os.path.join to append the new directories to the root_path parameter\n",
        "  # Create training & validation directories\n",
        "  for dir in ('training','validation'):\n",
        "    for class_dir in ('cats', 'dogs'):\n",
        "      path = os.path.join(root_path, dir, class_dir)\n",
        "      os.makedirs(path)\n",
        "\n",
        "  ### END CODE HERE\n",
        "\n",
        "  \n",
        "try:\n",
        "  create_train_val_dirs(root_path=root_dir)\n",
        "except FileExistsError:\n",
        "  print(\"You should not be seeing this since the upper directory is removed beforehand\")"
      ],
      "metadata": {
        "cellView": "code",
        "id": "F-QkLjxpmyK2",
        "tags": [
          "graded"
        ],
        "execution": {
          "iopub.status.busy": "2022-05-25T04:42:30.648275Z",
          "iopub.execute_input": "2022-05-25T04:42:30.648579Z",
          "iopub.status.idle": "2022-05-25T04:42:30.659092Z",
          "shell.execute_reply.started": "2022-05-25T04:42:30.648544Z",
          "shell.execute_reply": "2022-05-25T04:42:30.658202Z"
        },
        "trusted": true
      },
      "execution_count": null,
      "outputs": []
    },
    {
      "cell_type": "code",
      "source": [
        "# Test your create_train_val_dirs function\n",
        "\n",
        "for rootdir, dirs, files in os.walk(root_dir):\n",
        "    for subdir in dirs:\n",
        "        print(os.path.join(rootdir, subdir))"
      ],
      "metadata": {
        "id": "5dhtL344OK00",
        "tags": [
          "graded"
        ],
        "execution": {
          "iopub.status.busy": "2022-05-25T04:42:30.660521Z",
          "iopub.execute_input": "2022-05-25T04:42:30.660881Z",
          "iopub.status.idle": "2022-05-25T04:42:30.674729Z",
          "shell.execute_reply.started": "2022-05-25T04:42:30.660845Z",
          "shell.execute_reply": "2022-05-25T04:42:30.673949Z"
        },
        "trusted": true,
        "colab": {
          "base_uri": "https://localhost:8080/"
        },
        "outputId": "fc1b22b7-a23a-400e-b30a-3c366b875fdc"
      },
      "execution_count": null,
      "outputs": [
        {
          "output_type": "stream",
          "name": "stdout",
          "text": [
            "/tmp/cats-v-dogs/validation\n",
            "/tmp/cats-v-dogs/training\n",
            "/tmp/cats-v-dogs/validation/dogs\n",
            "/tmp/cats-v-dogs/validation/cats\n",
            "/tmp/cats-v-dogs/training/dogs\n",
            "/tmp/cats-v-dogs/training/cats\n"
          ]
        }
      ]
    },
    {
      "cell_type": "markdown",
      "source": [
        "**Expected Output (directory order might vary):**\n",
        "\n",
        "``` txt\n",
        "/tmp/cats-v-dogs/training\n",
        "/tmp/cats-v-dogs/validation\n",
        "/tmp/cats-v-dogs/training/cats\n",
        "/tmp/cats-v-dogs/training/dogs\n",
        "/tmp/cats-v-dogs/validation/cats\n",
        "/tmp/cats-v-dogs/validation/dogs\n",
        "\n",
        "```"
      ],
      "metadata": {
        "id": "D7A0RK3IQsvg"
      }
    },
    {
      "cell_type": "markdown",
      "source": [
        "Code the `split_data` function which takes in the following arguments:\n",
        "- SOURCE_DIR: directory containing the files\n",
        "\n",
        "- TRAINING_DIR: directory that a portion of the files will be copied to (will be used for training)\n",
        "\n",
        "- VALIDATION_DIR: directory that a portion of the files will be copied to (will be used for validation)\n",
        "\n",
        "- SPLIT_SIZE: determines the portion of images used for training.\n",
        "\n",
        "The files should be randomized, so that the training set is a random sample of the files, and the validation set is made up of the remaining files.\n",
        "\n",
        "For example, if `SOURCE_DIR` is `PetImages/Cat`, and `SPLIT_SIZE` is .9 then 90% of the images in `PetImages/Cat` will be copied to the `TRAINING_DIR` directory\n",
        "and 10% of the images will be copied to the `VALIDATION_DIR` directory.\n",
        "\n",
        "All images should be checked before the copy, so if they have a zero file length, they will be omitted from the copying process. If this is the case then your function should print out a message such as `\"filename is zero length, so ignoring.\"`. **You should perform this check before the split so that only non-zero images are considered when doing the actual split.**\n",
        "\n",
        "\n",
        "Hints:\n",
        "\n",
        "- `os.listdir(DIRECTORY)` returns a list with the contents of that directory.\n",
        "\n",
        "- `os.path.getsize(PATH)` returns the size of the file\n",
        "\n",
        "- `copyfile(source, destination)` copies a file from source to destination\n",
        "\n",
        "- `random.sample(list, len(list))` shuffles a list"
      ],
      "metadata": {
        "id": "R93T7HdE5txZ"
      }
    },
    {
      "cell_type": "code",
      "source": [
        "# GRADED FUNCTION: split_data\n",
        "def split_data(SOURCE_DIR, TRAINING_DIR, VALIDATION_DIR, SPLIT_SIZE):\n",
        "\n",
        "  \"\"\"\n",
        "  Splits the data into train and test sets\n",
        "  \n",
        "  Args:\n",
        "    SOURCE_DIR (string): directory path containing the images\n",
        "    TRAINING_DIR (string): directory path to be used for training\n",
        "    VALIDATION_DIR (string): directory path to be used for validation\n",
        "    SPLIT_SIZE (float): proportion of the dataset to be used for training\n",
        "    \n",
        "  Returns:\n",
        "    None\n",
        "  \"\"\"\n",
        "  ### START CODE HERE\n",
        "  # Iterate over all animal_class\n",
        "  list_of_files = [\n",
        "    f for f in os.listdir(SOURCE_DIR)\n",
        "    if os.path.getsize(os.path.join(SOURCE_DIR, f))\n",
        "  ]\n",
        "  list_of_files_shuffle = random.sample(list_of_files, len(list_of_files))\n",
        "  split_at_n = int(len(list_of_files) * SPLIT_SIZE)\n",
        "\n",
        "  for f in list_of_files_shuffle[:split_at_n]:\n",
        "    src = os.path.join(SOURCE_DIR, f)\n",
        "    dest = os.path.join(TRAINING_DIR, f)\n",
        "    copyfile(src, dest)\n",
        "  for f in list_of_files_shuffle[split_at_n:]:\n",
        "      copyfile(os.path.join(SOURCE_DIR, f), os.path.join(VALIDATION_DIR, f))\n",
        "  ### END CODE HERE\n"
      ],
      "metadata": {
        "cellView": "code",
        "id": "zvSODo0f9LaU",
        "tags": [
          "graded"
        ],
        "execution": {
          "iopub.status.busy": "2022-05-25T04:42:30.676202Z",
          "iopub.execute_input": "2022-05-25T04:42:30.676476Z",
          "iopub.status.idle": "2022-05-25T04:42:30.68674Z",
          "shell.execute_reply.started": "2022-05-25T04:42:30.676443Z",
          "shell.execute_reply": "2022-05-25T04:42:30.685975Z"
        },
        "trusted": true
      },
      "execution_count": null,
      "outputs": []
    },
    {
      "cell_type": "code",
      "source": [
        "# Test your split_data function\n",
        "\n",
        "# Define paths\n",
        "CAT_SOURCE_DIR = \"/tmp/PetImages/Cat/\"\n",
        "DOG_SOURCE_DIR = \"/tmp/PetImages/Dog/\"\n",
        "\n",
        "TRAINING_DIR = \"/tmp/cats-v-dogs/training/\"\n",
        "VALIDATION_DIR = \"/tmp/cats-v-dogs/validation/\"\n",
        "\n",
        "TRAINING_CATS_DIR = os.path.join(TRAINING_DIR, \"cats/\")\n",
        "VALIDATION_CATS_DIR = os.path.join(VALIDATION_DIR, \"cats/\")\n",
        "\n",
        "TRAINING_DOGS_DIR = os.path.join(TRAINING_DIR, \"dogs/\")\n",
        "VALIDATION_DOGS_DIR = os.path.join(VALIDATION_DIR, \"dogs/\")\n",
        "\n",
        "# Empty directories in case you run this cell multiple times\n",
        "if len(os.listdir(TRAINING_CATS_DIR)) > 0:\n",
        "  for file in os.scandir(TRAINING_CATS_DIR):\n",
        "    os.remove(file.path)\n",
        "if len(os.listdir(TRAINING_DOGS_DIR)) > 0:\n",
        "  for file in os.scandir(TRAINING_DOGS_DIR):\n",
        "    os.remove(file.path)\n",
        "if len(os.listdir(VALIDATION_CATS_DIR)) > 0:\n",
        "  for file in os.scandir(VALIDATION_CATS_DIR):\n",
        "    os.remove(file.path)\n",
        "if len(os.listdir(VALIDATION_DOGS_DIR)) > 0:\n",
        "  for file in os.scandir(VALIDATION_DOGS_DIR):\n",
        "    os.remove(file.path)\n",
        "\n",
        "# Define proportion of images used for training\n",
        "split_size = .9\n",
        "\n",
        "# Run the function\n",
        "# NOTE: Messages about zero length images should be printed out\n",
        "split_data(CAT_SOURCE_DIR, TRAINING_CATS_DIR, VALIDATION_CATS_DIR, split_size)\n",
        "split_data(DOG_SOURCE_DIR, TRAINING_DOGS_DIR, VALIDATION_DOGS_DIR, split_size)\n",
        "\n",
        "# Check that the number of images matches the expected output\n",
        "print(f\"\\n\\nThere are {len(os.listdir(TRAINING_CATS_DIR))} images of cats for training\")\n",
        "print(f\"There are {len(os.listdir(TRAINING_DOGS_DIR))} images of dogs for training\")\n",
        "print(f\"There are {len(os.listdir(VALIDATION_CATS_DIR))} images of cats for validation\")\n",
        "print(f\"There are {len(os.listdir(VALIDATION_DOGS_DIR))} images of dogs for validation\")"
      ],
      "metadata": {
        "id": "FlIdoUeX9S-9",
        "tags": [
          "graded"
        ],
        "execution": {
          "iopub.status.busy": "2022-05-25T04:42:30.688469Z",
          "iopub.execute_input": "2022-05-25T04:42:30.688677Z",
          "iopub.status.idle": "2022-05-25T04:42:35.265579Z",
          "shell.execute_reply.started": "2022-05-25T04:42:30.688654Z",
          "shell.execute_reply": "2022-05-25T04:42:35.264765Z"
        },
        "trusted": true,
        "colab": {
          "base_uri": "https://localhost:8080/"
        },
        "outputId": "e31c77a2-c09b-49b9-e024-f545c5b52ac4"
      },
      "execution_count": null,
      "outputs": [
        {
          "output_type": "stream",
          "name": "stdout",
          "text": [
            "\n",
            "\n",
            "There are 11250 images of cats for training\n",
            "There are 11250 images of dogs for training\n",
            "There are 1250 images of cats for validation\n",
            "There are 1250 images of dogs for validation\n"
          ]
        }
      ]
    },
    {
      "cell_type": "markdown",
      "source": [
        "**Expected Output:**\n",
        "\n",
        "```\n",
        "666.jpg is zero length, so ignoring.\n",
        "11702.jpg is zero length, so ignoring.\n",
        "```\n",
        "\n",
        "```\n",
        "There are 11250 images of cats for training\n",
        "There are 11250 images of dogs for training\n",
        "There are 1250 images of cats for validation\n",
        "There are 1250 images of dogs for validation\n",
        "```"
      ],
      "metadata": {
        "id": "hvskJNOFVSaz"
      }
    },
    {
      "cell_type": "markdown",
      "source": [
        "Now that you have successfully organized the data in a way that can be easily fed to Keras' `ImageDataGenerator`, it is time for you to code the generators that will yield batches of images, both for training and validation. For this, complete the `train_val_generators` function below.\n",
        "\n",
        "Something important to note is that the images in this dataset come in a variety of resolutions. Luckily, the `flow_from_directory` method allows you to standarize this by defining a tuple called `target_size` that will be used to convert each image to this target resolution. **For this exercise use a `target_size` of (150, 150)**."
      ],
      "metadata": {
        "id": "Zil4QmOD_mXF"
      }
    },
    {
      "cell_type": "code",
      "source": [
        "# GRADED FUNCTION: train_val_generators\n",
        "def train_val_generators(TRAINING_DIR, VALIDATION_DIR):\n",
        "  \"\"\"\n",
        "  Creates the training and validation data generators\n",
        "  \n",
        "  Args:\n",
        "    TRAINING_DIR (string): directory path containing the training images\n",
        "    VALIDATION_DIR (string): directory path containing the testing/validation images\n",
        "    \n",
        "  Returns:\n",
        "    train_generator, validation_generator - tuple containing the generators\n",
        "  \"\"\"\n",
        "  ### START CODE HERE\n",
        "\n",
        "  # Instantiate the ImageDataGenerator class (don't forget to set the arguments to augment the images)\n",
        "  train_datagen = ImageDataGenerator(rescale=1./255,\n",
        "                                     rotation_range=20,\n",
        "                                     width_shift_range=0.2,\n",
        "                                     height_shift_range=0.2,\n",
        "                                     shear_range=0.2,\n",
        "                                     zoom_range=0.2,\n",
        "                                     horizontal_flip=True,\n",
        "                                     fill_mode='nearest')\n",
        "\n",
        "  # Pass in the appropriate arguments to the flow_from_directory method\n",
        "  train_generator = train_datagen.flow_from_directory(directory=TRAINING_DIR,\n",
        "                                                      batch_size=32,\n",
        "                                                      class_mode='binary',\n",
        "                                                      target_size=(150, 150))\n",
        "\n",
        "  # Instantiate the ImageDataGenerator class (don't forget to set the rescale argument)\n",
        "  validation_datagen = ImageDataGenerator(rescale=1./255,)\n",
        "\n",
        "  # Pass in the appropriate arguments to the flow_from_directory method\n",
        "  validation_generator = validation_datagen.flow_from_directory(directory=VALIDATION_DIR,\n",
        "                                                                batch_size=32,\n",
        "                                                                class_mode='binary',\n",
        "                                                                target_size=(150, 150))\n",
        "  ### END CODE HERE\n",
        "  return train_generator, validation_generator\n"
      ],
      "metadata": {
        "cellView": "code",
        "id": "fQrZfVgz4j2g",
        "tags": [
          "graded"
        ],
        "execution": {
          "iopub.status.busy": "2022-05-25T04:42:35.27055Z",
          "iopub.execute_input": "2022-05-25T04:42:35.27252Z",
          "iopub.status.idle": "2022-05-25T04:42:35.28371Z",
          "shell.execute_reply.started": "2022-05-25T04:42:35.272481Z",
          "shell.execute_reply": "2022-05-25T04:42:35.283054Z"
        },
        "trusted": true
      },
      "execution_count": null,
      "outputs": []
    },
    {
      "cell_type": "code",
      "source": [
        "# Test your generators\n",
        "train_generator, validation_generator = train_val_generators(TRAINING_DIR, VALIDATION_DIR)"
      ],
      "metadata": {
        "id": "qM7FxrjGiobD",
        "tags": [
          "graded"
        ],
        "execution": {
          "iopub.status.busy": "2022-05-25T04:42:35.288985Z",
          "iopub.execute_input": "2022-05-25T04:42:35.290998Z",
          "iopub.status.idle": "2022-05-25T04:42:36.88901Z",
          "shell.execute_reply.started": "2022-05-25T04:42:35.290945Z",
          "shell.execute_reply": "2022-05-25T04:42:36.888308Z"
        },
        "trusted": true,
        "colab": {
          "base_uri": "https://localhost:8080/"
        },
        "outputId": "d22c1c3c-9ab0-4d7f-814e-cc79f10cb6d6"
      },
      "execution_count": null,
      "outputs": [
        {
          "output_type": "stream",
          "name": "stdout",
          "text": [
            "Found 22498 images belonging to 2 classes.\n",
            "Found 2500 images belonging to 2 classes.\n"
          ]
        }
      ]
    },
    {
      "cell_type": "markdown",
      "source": [
        "**Expected Output:**\n",
        "\n",
        "```\n",
        "Found 22498 images belonging to 2 classes.\n",
        "Found 2500 images belonging to 2 classes.\n",
        "```\n"
      ],
      "metadata": {
        "id": "tiPNmSfZjHwJ"
      }
    },
    {
      "cell_type": "markdown",
      "source": [
        "One last step before training is to define the architecture of the model that will be trained.\n",
        "\n",
        "Complete the `create_model` function below which should return a Keras' `Sequential` model.\n",
        "\n",
        "Aside from defining the architecture of the model, you should also compile it so make sure to use a `loss` function that is compatible with the `class_mode` you defined in the previous exercise, which should also be compatible with the output of your network. You can tell if they aren't compatible if you get an error during training.\n",
        "\n",
        "**Note that you should use at least 3 convolution layers to achieve the desired performance.**"
      ],
      "metadata": {
        "id": "TI3oEmyQCZoO"
      }
    },
    {
      "cell_type": "code",
      "source": [
        "# GRADED FUNCTION: create_model\n",
        "def create_model():\n",
        "  # DEFINE A KERAS MODEL TO CLASSIFY CATS V DOGS\n",
        "  # USE AT LEAST 3 CONVOLUTION LAYERS\n",
        "  model = tf.keras.models.Sequential([ \n",
        "        tf.keras.layers.Conv2D(64, kernel_size=3, activation='relu', input_shape=(150,150,3)),\n",
        "        tf.keras.layers.Dropout(0.3),\n",
        "        tf.keras.layers.MaxPooling2D(2),\n",
        "        tf.keras.layers.Conv2D(32, kernel_size=2, activation='relu'),\n",
        "        tf.keras.layers.Dropout(0.3),\n",
        "        tf.keras.layers.MaxPooling2D(2),\n",
        "        tf.keras.layers.Conv2D(32, kernel_size=2, activation='relu'),\n",
        "        tf.keras.layers.Dropout(0.3),\n",
        "        tf.keras.layers.MaxPooling2D(2),\n",
        "        tf.keras.layers.Flatten(),\n",
        "        tf.keras.layers.Dense(128, activation='relu'),\n",
        "        tf.keras.layers.Dropout(0.2),\n",
        "        tf.keras.layers.Dense(64, activation='relu'),\n",
        "        tf.keras.layers.Dense(32, activation='relu'),\n",
        "        tf.keras.layers.Dense(1, activation='sigmoid'),\n",
        "  ])\n",
        "\n",
        "  model.compile(optimizer='adam',\n",
        "                loss=tf.keras.losses.binary_crossentropy,\n",
        "                metrics=['accuracy'],\n",
        "  ) \n",
        "\n",
        "  return model\n"
      ],
      "metadata": {
        "cellView": "code",
        "id": "oDPK8tUB_O9e",
        "lines_to_next_cell": 2,
        "tags": [
          "graded"
        ],
        "execution": {
          "iopub.status.busy": "2022-05-25T04:43:56.110956Z",
          "iopub.execute_input": "2022-05-25T04:43:56.11124Z",
          "iopub.status.idle": "2022-05-25T04:43:56.121219Z",
          "shell.execute_reply.started": "2022-05-25T04:43:56.111209Z",
          "shell.execute_reply": "2022-05-25T04:43:56.120179Z"
        },
        "trusted": true
      },
      "execution_count": null,
      "outputs": []
    },
    {
      "cell_type": "markdown",
      "source": [
        "Now it is time to train your model!\n",
        "\n",
        "Note: You can ignore the `UserWarning: Possibly corrupt EXIF data.` warnings."
      ],
      "metadata": {
        "id": "SMFNJZmTCZv6"
      }
    },
    {
      "cell_type": "code",
      "source": [
        "# Get the untrained model\n",
        "model = create_model()\n",
        "\n",
        "# Train the model\n",
        "# Note that this may take some time.\n",
        "callback = tf.keras.callbacks.EarlyStopping(\n",
        "                    monitor='accuracy',\n",
        "                    patience=5,\n",
        "                    min_delta=0.005,\n",
        "                    restore_best_weights=True,\n",
        ")\n",
        "history = model.fit(train_generator,\n",
        "                    epochs=25,\n",
        "                    verbose=1,\n",
        "                    validation_data=validation_generator,\n",
        "                    callbacks=[callback],\n",
        ")"
      ],
      "metadata": {
        "id": "5qE1G6JB4fMn",
        "tags": [],
        "execution": {
          "iopub.status.busy": "2022-05-25T05:24:27.211756Z",
          "iopub.execute_input": "2022-05-25T05:24:27.212516Z"
        },
        "trusted": true,
        "colab": {
          "base_uri": "https://localhost:8080/"
        },
        "outputId": "2154a042-ddd8-4904-bce0-caf1a1d34272"
      },
      "execution_count": null,
      "outputs": [
        {
          "output_type": "stream",
          "name": "stdout",
          "text": [
            "Epoch 1/25\n",
            "104/704 [===>..........................] - ETA: 2:25 - loss: 0.6949 - accuracy: 0.5243"
          ]
        },
        {
          "output_type": "stream",
          "name": "stderr",
          "text": [
            "/usr/local/lib/python3.7/dist-packages/PIL/TiffImagePlugin.py:770: UserWarning: Possibly corrupt EXIF data.  Expecting to read 32 bytes but only got 0. Skipping tag 270\n",
            "  \" Skipping tag %s\" % (size, len(data), tag)\n",
            "/usr/local/lib/python3.7/dist-packages/PIL/TiffImagePlugin.py:770: UserWarning: Possibly corrupt EXIF data.  Expecting to read 5 bytes but only got 0. Skipping tag 271\n",
            "  \" Skipping tag %s\" % (size, len(data), tag)\n",
            "/usr/local/lib/python3.7/dist-packages/PIL/TiffImagePlugin.py:770: UserWarning: Possibly corrupt EXIF data.  Expecting to read 8 bytes but only got 0. Skipping tag 272\n",
            "  \" Skipping tag %s\" % (size, len(data), tag)\n",
            "/usr/local/lib/python3.7/dist-packages/PIL/TiffImagePlugin.py:770: UserWarning: Possibly corrupt EXIF data.  Expecting to read 8 bytes but only got 0. Skipping tag 282\n",
            "  \" Skipping tag %s\" % (size, len(data), tag)\n",
            "/usr/local/lib/python3.7/dist-packages/PIL/TiffImagePlugin.py:770: UserWarning: Possibly corrupt EXIF data.  Expecting to read 8 bytes but only got 0. Skipping tag 283\n",
            "  \" Skipping tag %s\" % (size, len(data), tag)\n",
            "/usr/local/lib/python3.7/dist-packages/PIL/TiffImagePlugin.py:770: UserWarning: Possibly corrupt EXIF data.  Expecting to read 20 bytes but only got 0. Skipping tag 306\n",
            "  \" Skipping tag %s\" % (size, len(data), tag)\n",
            "/usr/local/lib/python3.7/dist-packages/PIL/TiffImagePlugin.py:770: UserWarning: Possibly corrupt EXIF data.  Expecting to read 48 bytes but only got 0. Skipping tag 532\n",
            "  \" Skipping tag %s\" % (size, len(data), tag)\n",
            "/usr/local/lib/python3.7/dist-packages/PIL/TiffImagePlugin.py:788: UserWarning: Corrupt EXIF data.  Expecting to read 2 bytes but only got 0. \n",
            "  warnings.warn(str(msg))\n"
          ]
        },
        {
          "output_type": "stream",
          "name": "stdout",
          "text": [
            "704/704 [==============================] - 179s 253ms/step - loss: 0.6691 - accuracy: 0.5814 - val_loss: 0.6656 - val_accuracy: 0.5868\n",
            "Epoch 2/25\n",
            "704/704 [==============================] - 178s 253ms/step - loss: 0.6088 - accuracy: 0.6681 - val_loss: 0.5651 - val_accuracy: 0.7384\n",
            "Epoch 3/25\n",
            "704/704 [==============================] - 179s 254ms/step - loss: 0.5816 - accuracy: 0.6930 - val_loss: 0.5489 - val_accuracy: 0.7252\n",
            "Epoch 4/25\n",
            "704/704 [==============================] - 179s 254ms/step - loss: 0.5460 - accuracy: 0.7200 - val_loss: 0.5127 - val_accuracy: 0.7588\n",
            "Epoch 5/25\n",
            "704/704 [==============================] - 178s 253ms/step - loss: 0.5320 - accuracy: 0.7315 - val_loss: 0.5818 - val_accuracy: 0.6956\n",
            "Epoch 6/25\n",
            "704/704 [==============================] - 178s 252ms/step - loss: 0.5228 - accuracy: 0.7379 - val_loss: 0.4714 - val_accuracy: 0.7812\n",
            "Epoch 7/25\n",
            "704/704 [==============================] - 177s 252ms/step - loss: 0.5107 - accuracy: 0.7490 - val_loss: 0.4966 - val_accuracy: 0.7488\n",
            "Epoch 8/25\n",
            "704/704 [==============================] - 179s 255ms/step - loss: 0.5004 - accuracy: 0.7573 - val_loss: 0.4711 - val_accuracy: 0.7868\n",
            "Epoch 9/25\n",
            "704/704 [==============================] - 180s 255ms/step - loss: 0.4912 - accuracy: 0.7567 - val_loss: 0.4712 - val_accuracy: 0.7772\n",
            "Epoch 10/25\n",
            "704/704 [==============================] - 179s 254ms/step - loss: 0.4802 - accuracy: 0.7655 - val_loss: 0.4502 - val_accuracy: 0.8008\n",
            "Epoch 11/25\n",
            "704/704 [==============================] - 177s 251ms/step - loss: 0.4744 - accuracy: 0.7718 - val_loss: 0.4361 - val_accuracy: 0.8064\n",
            "Epoch 12/25\n",
            "704/704 [==============================] - 178s 253ms/step - loss: 0.4669 - accuracy: 0.7777 - val_loss: 0.4469 - val_accuracy: 0.8088\n",
            "Epoch 13/25\n",
            "704/704 [==============================] - 178s 253ms/step - loss: 0.4645 - accuracy: 0.7778 - val_loss: 0.4235 - val_accuracy: 0.8232\n",
            "Epoch 14/25\n",
            "704/704 [==============================] - 179s 254ms/step - loss: 0.4556 - accuracy: 0.7825 - val_loss: 0.4644 - val_accuracy: 0.7804\n",
            "Epoch 15/25\n",
            "704/704 [==============================] - 177s 252ms/step - loss: 0.4492 - accuracy: 0.7852 - val_loss: 0.4210 - val_accuracy: 0.8196\n",
            "Epoch 16/25\n",
            "704/704 [==============================] - 178s 253ms/step - loss: 0.4454 - accuracy: 0.7915 - val_loss: 0.4198 - val_accuracy: 0.8260\n",
            "Epoch 17/25\n",
            "704/704 [==============================] - 177s 252ms/step - loss: 0.4433 - accuracy: 0.7925 - val_loss: 0.4124 - val_accuracy: 0.8256\n",
            "Epoch 18/25\n",
            "704/704 [==============================] - 177s 251ms/step - loss: 0.4379 - accuracy: 0.7971 - val_loss: 0.4714 - val_accuracy: 0.7680\n",
            "Epoch 19/25\n",
            "704/704 [==============================] - 177s 252ms/step - loss: 0.4385 - accuracy: 0.7956 - val_loss: 0.4261 - val_accuracy: 0.8188\n",
            "Epoch 20/25\n",
            "704/704 [==============================] - 178s 252ms/step - loss: 0.4300 - accuracy: 0.7991 - val_loss: 0.4237 - val_accuracy: 0.8160\n",
            "Epoch 21/25\n",
            "704/704 [==============================] - 177s 251ms/step - loss: 0.4264 - accuracy: 0.8030 - val_loss: 0.4039 - val_accuracy: 0.8196\n",
            "Epoch 22/25\n",
            "704/704 [==============================] - 177s 251ms/step - loss: 0.4223 - accuracy: 0.8035 - val_loss: 0.4135 - val_accuracy: 0.8164\n",
            "Epoch 23/25\n",
            "704/704 [==============================] - 177s 251ms/step - loss: 0.4180 - accuracy: 0.8084 - val_loss: 0.4283 - val_accuracy: 0.8092\n",
            "Epoch 24/25\n",
            "704/704 [==============================] - 181s 256ms/step - loss: 0.4093 - accuracy: 0.8136 - val_loss: 0.3746 - val_accuracy: 0.8420\n",
            "Epoch 25/25\n",
            "704/704 [==============================] - 176s 250ms/step - loss: 0.4143 - accuracy: 0.8086 - val_loss: 0.4043 - val_accuracy: 0.8320\n"
          ]
        }
      ]
    },
    {
      "cell_type": "markdown",
      "source": [
        "Once training has finished, you can run the following cell to check the training and validation accuracy achieved at the end of each epoch.\n",
        "\n",
        "**To pass this assignment, your model should achieve a training and validation accuracy of at least 80% and the final testing accuracy should be either higher than the training one or have a 5% difference at maximum**. If your model didn't achieve these thresholds, try training again with a different model architecture, remember to use at least 3 convolutional layers or try tweaking the image augmentation process.\n",
        "\n",
        "You might wonder why the training threshold to pass this assignment is significantly lower compared to last week's assignment. Image augmentation does help with overfitting but usually this comes at the expense of requiring more training time. To keep the training time reasonable, the same number of epochs as in the previous assignment are kept. \n",
        "\n",
        "However, as an optional exercise you are encouraged to try training for more epochs and to achieve really good training and validation accuracies."
      ],
      "metadata": {
        "id": "VGsaDMc-GMd4"
      }
    },
    {
      "cell_type": "code",
      "source": [
        "#-----------------------------------------------------------\n",
        "# Retrieve a list of list results on training and test data\n",
        "# sets for each training epoch\n",
        "#-----------------------------------------------------------\n",
        "acc=history.history['accuracy']\n",
        "val_acc=history.history['val_accuracy']\n",
        "loss=history.history['loss']\n",
        "val_loss=history.history['val_loss']\n",
        "\n",
        "epochs=range(len(acc)) # Get number of epochs\n",
        "\n",
        "#------------------------------------------------\n",
        "# Plot training and validation accuracy per epoch\n",
        "#------------------------------------------------\n",
        "plt.plot(epochs, acc, 'r', \"Training Accuracy\")\n",
        "plt.plot(epochs, val_acc, 'b', \"Validation Accuracy\")\n",
        "plt.title('Training and validation accuracy')\n",
        "plt.show()\n",
        "print(\"\")\n",
        "\n",
        "#------------------------------------------------\n",
        "# Plot training and validation loss per epoch\n",
        "#------------------------------------------------\n",
        "plt.plot(epochs, loss, 'r', \"Training Loss\")\n",
        "plt.plot(epochs, val_loss, 'b', \"Validation Loss\")\n",
        "plt.show()"
      ],
      "metadata": {
        "id": "MWZrJN4-65RC",
        "tags": [],
        "trusted": true,
        "colab": {
          "base_uri": "https://localhost:8080/",
          "height": 546
        },
        "outputId": "2b8d7d29-8286-4d9d-a2e2-b644c0d8db0a"
      },
      "execution_count": null,
      "outputs": [
        {
          "output_type": "display_data",
          "data": {
            "text/plain": [
              "<Figure size 432x288 with 1 Axes>"
            ],
            "image/png": "[encoded data removed]"
          },
          "metadata": {
            "needs_background": "light"
          }
        },
        {
          "output_type": "stream",
          "name": "stdout",
          "text": [
            "\n"
          ]
        },
        {
          "output_type": "display_data",
          "data": {
            "text/plain": [
              "<Figure size 432x288 with 1 Axes>"
            ],
            "image/png": "[encoded data removed]"
          },
          "metadata": {
            "needs_background": "light"
          }
        }
      ]
    },
    {
      "cell_type": "markdown",
      "source": [
        "You will probably encounter that the model is overfitting, which means that it is doing a great job at classifying the images in the training set but struggles with new data. This is perfectly fine and you will learn how to mitigate this issue in the upcomming week.\n",
        "\n",
        "Before closing the assignment, be sure to also download the `history.pkl` file which contains the information of the training history of your model. You can download this file by running the cell below:"
      ],
      "metadata": {
        "id": "NYIaqsN2pav6"
      }
    },
    {
      "cell_type": "code",
      "source": [
        "def download_history():\n",
        "  import pickle\n",
        "  from google.colab import files\n",
        "\n",
        "  with open('history_augmented.pkl', 'wb') as f:\n",
        "    pickle.dump(history.history, f)\n",
        "\n",
        "  files.download('history_augmented.pkl')\n",
        "\n",
        "download_history()"
      ],
      "metadata": {
        "id": "yWcrc9nZTsHj",
        "tags": [],
        "trusted": true,
        "colab": {
          "base_uri": "https://localhost:8080/",
          "height": 17
        },
        "outputId": "b3b9a1e9-d445-4283-c53b-2431a3d779c6"
      },
      "execution_count": null,
      "outputs": [
        {
          "output_type": "display_data",
          "data": {
            "text/plain": [
              "<IPython.core.display.Javascript object>"
            ],
            "application/javascript": [
              "\n",
              "    async function download(id, filename, size) {\n",
              "      if (!google.colab.kernel.accessAllowed) {\n",
              "        return;\n",
              "      }\n",
              "      const div = document.createElement('div');\n",
              "      const label = document.createElement('label');\n",
              "      label.textContent = `Downloading \"${filename}\": `;\n",
              "      div.appendChild(label);\n",
              "      const progress = document.createElement('progress');\n",
              "      progress.max = size;\n",
              "      div.appendChild(progress);\n",
              "      document.body.appendChild(div);\n",
              "\n",
              "      const buffers = [];\n",
              "      let downloaded = 0;\n",
              "\n",
              "      const channel = await google.colab.kernel.comms.open(id);\n",
              "      // Send a message to notify the kernel that we're ready.\n",
              "      channel.send({})\n",
              "\n",
              "      for await (const message of channel.messages) {\n",
              "        // Send a message to notify the kernel that we're ready.\n",
              "        channel.send({})\n",
              "        if (message.buffers) {\n",
              "          for (const buffer of message.buffers) {\n",
              "            buffers.push(buffer);\n",
              "            downloaded += buffer.byteLength;\n",
              "            progress.value = downloaded;\n",
              "          }\n",
              "        }\n",
              "      }\n",
              "      const blob = new Blob(buffers, {type: 'application/binary'});\n",
              "      const a = document.createElement('a');\n",
              "      a.href = window.URL.createObjectURL(blob);\n",
              "      a.download = filename;\n",
              "      div.appendChild(a);\n",
              "      a.click();\n",
              "      div.remove();\n",
              "    }\n",
              "  "
            ]
          },
          "metadata": {}
        },
        {
          "output_type": "display_data",
          "data": {
            "text/plain": [
              "<IPython.core.display.Javascript object>"
            ],
            "application/javascript": [
              "download(\"download_af4a836e-ffbf-4a73-bacd-57d49a1ffc9c\", \"history_augmented.pkl\", 988)"
            ]
          },
          "metadata": {}
        }
      ]
    },
    {
      "cell_type": "markdown",
      "source": [
        "You will also need to submit this notebook for grading. To download it, click on the `File` tab in the upper left corner of the screen then click on `Download` -> `Download .ipynb`. You can name it anything you want as long as it is a valid `.ipynb` (jupyter notebook) file."
      ],
      "metadata": {
        "id": "yEj7UVe0OgMq"
      }
    },
    {
      "cell_type": "markdown",
      "source": [
        "**Congratulations on finishing this week's assignment!**\n",
        "\n",
        "You have successfully implemented a convolutional neural network that classifies images of cats and dogs, along with the helper functions needed to pre-process the images!\n",
        "\n",
        "**Keep it up!**"
      ],
      "metadata": {
        "id": "joAaZSWWpbOI"
      }
    }
  ]
}